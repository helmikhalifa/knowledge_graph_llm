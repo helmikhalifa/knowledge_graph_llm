{
 "cells": [
  {
   "attachments": {},
   "cell_type": "markdown",
   "metadata": {},
   "source": [
    "### 1. Install necessary libraries:\n",
    "\n",
    "Make sure you have the Google Generative AI LangChain integration installed."
   ]
  },
  {
   "cell_type": "code",
   "execution_count": null,
   "metadata": {},
   "outputs": [],
   "source": [
    "%pip install --upgrade langchain langchain-experimental langchain-google-genai python-dotenv pyvis google-generativeai google-genai"
   ]
  },
  {
   "attachments": {},
   "cell_type": "markdown",
   "metadata": {},
   "source": [
    "### 2. Set up your Gemini API Key:\n",
    "\n",
    "You'll need a Google AI Studio API key."
   ]
  },
  {
   "cell_type": "code",
   "execution_count": 34,
   "metadata": {},
   "outputs": [],
   "source": [
    "from dotenv import load_dotenv\n",
    "import os\n",
    "\n",
    "# Load the .env file (make sure GOOGLE_API_KEY is present in your .env file)\n",
    "load_dotenv()\n",
    "\n",
    "# Get API key from environment variable\n",
    "# If you don't want to use .env, you can directly assign your API key:\n",
    "# google_api_key = \"YOUR_GEMINI_API_KEY\"\n",
    "google_api_key = os.getenv(\"GOOGLE_API_KEY\")\n",
    "\n",
    "if not google_api_key:\n",
    "    raise ValueError(\"GOOGLE_API_KEY environment variable not set. Please set it in your .env file or directly in the code.\")\n"
   ]
  },
  {
   "attachments": {},
   "cell_type": "markdown",
   "metadata": {},
   "source": [
    "### 3. The LLM instantiation fro Graph Transformer:\n",
    "\n",
    "You can specify the Gemini model you want to use (e.g., \"gemini-2.5-pro\", \"gemini-1.5-pro\", \"gemini-1.5-flash\"). \"gemini-pro\" is a good general-purpose model."
   ]
  },
  {
   "cell_type": "code",
   "execution_count": 35,
   "metadata": {},
   "outputs": [
    {
     "name": "stdout",
     "output_type": "stream",
     "text": [
      "List of models that support generateContent:\n",
      "models/gemini-1.0-pro-vision-latest\n",
      "models/gemini-pro-vision\n",
      "models/gemini-1.5-pro-latest\n",
      "models/gemini-1.5-pro-002\n",
      "models/gemini-1.5-pro\n",
      "models/gemini-1.5-flash-latest\n",
      "models/gemini-1.5-flash\n",
      "models/gemini-1.5-flash-002\n",
      "models/gemini-1.5-flash-8b\n",
      "models/gemini-1.5-flash-8b-001\n",
      "models/gemini-1.5-flash-8b-latest\n",
      "models/gemini-2.5-pro-preview-03-25\n",
      "models/gemini-2.5-flash-preview-04-17\n",
      "models/gemini-2.5-flash-preview-05-20\n",
      "models/gemini-2.5-flash\n",
      "models/gemini-2.5-flash-preview-04-17-thinking\n",
      "models/gemini-2.5-flash-lite-preview-06-17\n",
      "models/gemini-2.5-pro-preview-05-06\n",
      "models/gemini-2.5-pro-preview-06-05\n",
      "models/gemini-2.5-pro\n",
      "models/gemini-2.0-flash-exp\n",
      "models/gemini-2.0-flash\n",
      "models/gemini-2.0-flash-001\n",
      "models/gemini-2.0-flash-exp-image-generation\n",
      "models/gemini-2.0-flash-lite-001\n",
      "models/gemini-2.0-flash-lite\n",
      "models/gemini-2.0-flash-preview-image-generation\n",
      "models/gemini-2.0-flash-lite-preview-02-05\n",
      "models/gemini-2.0-flash-lite-preview\n",
      "models/gemini-2.0-pro-exp\n",
      "models/gemini-2.0-pro-exp-02-05\n",
      "models/gemini-exp-1206\n",
      "models/gemini-2.0-flash-thinking-exp-01-21\n",
      "models/gemini-2.0-flash-thinking-exp\n",
      "models/gemini-2.0-flash-thinking-exp-1219\n",
      "models/gemini-2.5-flash-preview-tts\n",
      "models/gemini-2.5-pro-preview-tts\n",
      "models/learnlm-2.0-flash-experimental\n",
      "models/gemma-3-1b-it\n",
      "models/gemma-3-4b-it\n",
      "models/gemma-3-12b-it\n",
      "models/gemma-3-27b-it\n",
      "models/gemma-3n-e4b-it\n",
      "models/gemma-3n-e2b-it\n"
     ]
    }
   ],
   "source": [
    "import google.generativeai as genai\n",
    "import os\n",
    "from dotenv import load_dotenv\n",
    "\n",
    "load_dotenv()\n",
    "google_api_key = os.getenv(\"GOOGLE_API_KEY\")\n",
    "genai.configure(api_key=google_api_key)\n",
    "\n",
    "print(\"List of models that support generateContent:\")\n",
    "for m in genai.list_models():\n",
    "    if 'generateContent' in m.supported_generation_methods:\n",
    "        print(m.name)"
   ]
  },
  {
   "cell_type": "code",
   "execution_count": 36,
   "metadata": {},
   "outputs": [],
   "source": [
    "from langchain_experimental.graph_transformers import LLMGraphTransformer\n",
    "from langchain_core.documents import Document\n",
    "from langchain_google_genai import ChatGoogleGenerativeAI\n",
    "\n",
    "# Initialize Gemini LLM\n",
    "# You can choose different models like \"gemini-1.5-pro\" or \"gemini-1.5-flash\"\n",
    "llm = ChatGoogleGenerativeAI(model=\"gemini-2.5-pro\", temperature=0, google_api_key=google_api_key)\n",
    "\n",
    "# Initialize the LLMGraphTransformer with the Gemini LLM\n",
    "graph_transformer = LLMGraphTransformer(llm=llm)"
   ]
  },
  {
   "attachments": {},
   "cell_type": "markdown",
   "metadata": {},
   "source": [
    "### 4. Extract graph data"
   ]
  },
  {
   "cell_type": "code",
   "execution_count": 42,
   "metadata": {},
   "outputs": [],
   "source": [
    "text = \"\"\"\n",
    "Mr. Bean is a British sitcom created by Rowan Atkinson and Richard Curtis, produced by Tiger Aspect Productions and starring Atkinson as the title character. The sitcom consists of 15 episodes that were co-written by Atkinson alongside Curtis and Robin Driscoll; the pilot episode was co-written by Ben Elton. The series originally aired on ITV, beginning with the pilot episode on 1 January 1990[1] and ending with \"The Best Bits of Mr. Bean\" on 15 December 1995.\n",
    "\n",
    "Based on a character developed by Atkinson while he was studying for his master's degree at the University of Oxford, the series centres on Mr. Bean, described by Atkinson as \"a child in a grown man's body\", as he solves various problems presented by everyday tasks and often causes disruption in the process.[2] The series has been influenced by physical comedy actors such as Jacques Tati and those from early silent films.[2]\n",
    "\n",
    "During its original five-year run, Mr. Bean was met with widespread acclaim and attracted large television audiences. The series was viewed by 18.74 million viewers for the episode \"The Trouble with Mr. Bean\"[3] and has received a number of international awards, including the Rose d'Or. The series has since been sold in 245 territories worldwide. It has inspired an animated spin-off and two theatrical feature-length films along with Atkinson reprising his role as Mr. Bean for a performance at the London 2012 Summer Olympics opening ceremony, television commercials and several sketches for Comic Relief. The programme carries strong appeal in hundreds of territories worldwide because, in addition to the acclaim from its original run, it uses very little intelligible dialogue, making it accessible to people who know little or no English.\n",
    "\"\"\""
   ]
  },
  {
   "cell_type": "code",
   "execution_count": 43,
   "metadata": {},
   "outputs": [],
   "source": [
    "documents = [Document(page_content=text)]\n",
    "graph_documents = await graph_transformer.aconvert_to_graph_documents(documents)"
   ]
  },
  {
   "cell_type": "code",
   "execution_count": 44,
   "metadata": {},
   "outputs": [
    {
     "name": "stdout",
     "output_type": "stream",
     "text": [
      "Nodes:[Node(id='Mr. Bean', type='Sitcom', properties={}), Node(id='Rowan Atkinson', type='Person', properties={}), Node(id='Richard Curtis', type='Person', properties={}), Node(id='Tiger Aspect Productions', type='Company', properties={}), Node(id='Robin Driscoll', type='Person', properties={}), Node(id='Ben Elton', type='Person', properties={}), Node(id='Itv', type='Company', properties={}), Node(id='University Of Oxford', type='University', properties={}), Node(id='Jacques Tati', type='Person', properties={}), Node(id=\"Rose D'Or\", type='Award', properties={}), Node(id='London 2012 Summer Olympics', type='Event', properties={}), Node(id='Comic Relief', type='Organization', properties={})]\n",
      "Relationships:[Relationship(source=Node(id='Rowan Atkinson', type='Person', properties={}), target=Node(id='Mr. Bean', type='Sitcom', properties={}), type='CREATOR_OF', properties={}), Relationship(source=Node(id='Richard Curtis', type='Person', properties={}), target=Node(id='Mr. Bean', type='Sitcom', properties={}), type='CREATOR_OF', properties={}), Relationship(source=Node(id='Tiger Aspect Productions', type='Company', properties={}), target=Node(id='Mr. Bean', type='Sitcom', properties={}), type='PRODUCER_OF', properties={}), Relationship(source=Node(id='Rowan Atkinson', type='Person', properties={}), target=Node(id='Mr. Bean', type='Sitcom', properties={}), type='ACTOR_IN', properties={}), Relationship(source=Node(id='Rowan Atkinson', type='Person', properties={}), target=Node(id='Mr. Bean', type='Sitcom', properties={}), type='WRITER_OF', properties={}), Relationship(source=Node(id='Richard Curtis', type='Person', properties={}), target=Node(id='Mr. Bean', type='Sitcom', properties={}), type='WRITER_OF', properties={}), Relationship(source=Node(id='Robin Driscoll', type='Person', properties={}), target=Node(id='Mr. Bean', type='Sitcom', properties={}), type='WRITER_OF', properties={}), Relationship(source=Node(id='Ben Elton', type='Person', properties={}), target=Node(id='Mr. Bean', type='Sitcom', properties={}), type='WRITER_OF', properties={}), Relationship(source=Node(id='Itv', type='Company', properties={}), target=Node(id='Mr. Bean', type='Sitcom', properties={}), type='BROADCASTER_OF', properties={}), Relationship(source=Node(id='Rowan Atkinson', type='Person', properties={}), target=Node(id='University Of Oxford', type='University', properties={}), type='STUDIED_AT', properties={}), Relationship(source=Node(id='Mr. Bean', type='Sitcom', properties={}), target=Node(id='Jacques Tati', type='Person', properties={}), type='INFLUENCED_BY', properties={}), Relationship(source=Node(id='Mr. Bean', type='Sitcom', properties={}), target=Node(id=\"Rose D'Or\", type='Award', properties={}), type='AWARDED', properties={}), Relationship(source=Node(id='Rowan Atkinson', type='Person', properties={}), target=Node(id='London 2012 Summer Olympics', type='Event', properties={}), type='PERFORMED_AT', properties={}), Relationship(source=Node(id='Rowan Atkinson', type='Person', properties={}), target=Node(id='Comic Relief', type='Organization', properties={}), type='PERFORMED_FOR', properties={})]\n"
     ]
    }
   ],
   "source": [
    "print(f\"Nodes:{graph_documents[0].nodes}\")\n",
    "print(f\"Relationships:{graph_documents[0].relationships}\")"
   ]
  },
  {
   "attachments": {},
   "cell_type": "markdown",
   "metadata": {},
   "source": [
    "### 5. Visualize the graph with Pyvis"
   ]
  },
  {
   "cell_type": "code",
   "execution_count": 52,
   "metadata": {},
   "outputs": [
    {
     "name": "stdout",
     "output_type": "stream",
     "text": [
      "Warning: When  cdn_resources is 'local' jupyter notebook has issues displaying graphics on chrome/safari. Use cdn_resources='in_line' or cdn_resources='remote' if you have issues viewing graphics in a notebook.\n",
      "gemini_knowledge_graph.html\n",
      "Graph saved to /Users/helmik/Desktop/workspace/knowledge_graph_llm/gemini_knowledge_graph.html\n"
     ]
    }
   ],
   "source": [
    "from pyvis.network import Network\n",
    "net = Network(notebook=True, directed=True,\n",
    "              height=\"1200px\", width=\"100%\", bgcolor=\"#222222\", font_color=\"white\")\n",
    "\n",
    "# Add nodes\n",
    "for node in graph_documents[0].nodes:\n",
    "    net.add_node(node.id, label=node.id, title=node.type, group=node.type) # Customize color for nodes\n",
    "\n",
    "# Add edges\n",
    "for relationship in graph_documents[0].relationships:\n",
    "    net.add_edge(relationship.source.id, relationship.target.id, label=relationship.type.lower())  # Customize color for edges\n",
    "\n",
    "# Add physics for better layout\n",
    "net.set_options(\"\"\"\n",
    "        {\n",
    "            \"physics\": {\n",
    "                \"forceAtlas2Based\": {\n",
    "                    \"gravitationalConstant\": -100,\n",
    "                    \"centralGravity\": 0.01,\n",
    "                    \"springLength\": 200,\n",
    "                    \"springConstant\": 0.08\n",
    "                },\n",
    "                \"minVelocity\": 0.75,\n",
    "                \"solver\": \"forceAtlas2Based\"\n",
    "            }\n",
    "        }\n",
    "        \"\"\")\n",
    "\n",
    "# Save and display the graph\n",
    "html_file = \"gemini_knowledge_graph.html\"\n",
    "net.show(html_file)\n",
    "print(f\"Graph saved to {os.path.abspath(html_file)}\")"
   ]
  }
 ],
 "metadata": {
  "kernelspec": {
   "display_name": ".venv",
   "language": "python",
   "name": "python3"
  },
  "language_info": {
   "codemirror_mode": {
    "name": "ipython",
    "version": 3
   },
   "file_extension": ".py",
   "mimetype": "text/x-python",
   "name": "python",
   "nbconvert_exporter": "python",
   "pygments_lexer": "ipython3",
   "version": "3.11.6"
  },
  "orig_nbformat": 4
 },
 "nbformat": 4,
 "nbformat_minor": 2
}
