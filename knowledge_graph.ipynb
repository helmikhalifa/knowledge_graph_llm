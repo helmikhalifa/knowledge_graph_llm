{
 "cells": [
  {
   "attachments": {},
   "cell_type": "markdown",
   "metadata": {},
   "source": [
    "### 1. Install necessary libraries:\n",
    "\n",
    "Make sure you have the Google Generative AI LangChain integration installed."
   ]
  },
  {
   "cell_type": "code",
   "execution_count": null,
   "metadata": {},
   "outputs": [],
   "source": [
    "%pip install --upgrade langchain langchain-experimental langchain-google-genai python-dotenv pyvis google-generativeai google-genai"
   ]
  },
  {
   "attachments": {},
   "cell_type": "markdown",
   "metadata": {},
   "source": [
    "### 2. Set up your Gemini API Key:\n",
    "\n",
    "You'll need a Google AI Studio API key."
   ]
  },
  {
   "cell_type": "code",
   "execution_count": 7,
   "metadata": {},
   "outputs": [],
   "source": [
    "from dotenv import load_dotenv\n",
    "import os\n",
    "\n",
    "# Load the .env file (make sure GOOGLE_API_KEY is present in your .env file)\n",
    "load_dotenv()\n",
    "\n",
    "# Get API key from environment variable\n",
    "# If you don't want to use .env, you can directly assign your API key:\n",
    "# google_api_key = \"YOUR_GEMINI_API_KEY\"\n",
    "google_api_key = os.getenv(\"GOOGLE_API_KEY\")\n",
    "\n",
    "if not google_api_key:\n",
    "    raise ValueError(\"GOOGLE_API_KEY environment variable not set. Please set it in your .env file or directly in the code.\")\n"
   ]
  },
  {
   "attachments": {},
   "cell_type": "markdown",
   "metadata": {},
   "source": [
    "### 3. The LLM instantiation fro Graph Transformer:\n",
    "\n",
    "You can specify the Gemini model you want to use (e.g., \"gemini-2.5-pro\", \"gemini-1.5-pro\", \"gemini-1.5-flash\"). \"gemini-pro\" is a good general-purpose model."
   ]
  },
  {
   "cell_type": "code",
   "execution_count": null,
   "metadata": {},
   "outputs": [
    {
     "name": "stdout",
     "output_type": "stream",
     "text": [
      "List of models that support generateContent:\n",
      "models/gemini-1.0-pro-vision-latest\n",
      "models/gemini-pro-vision\n",
      "models/gemini-1.5-pro-latest\n",
      "models/gemini-1.5-pro-002\n",
      "models/gemini-1.5-pro\n",
      "models/gemini-1.5-flash-latest\n",
      "models/gemini-1.5-flash\n",
      "models/gemini-1.5-flash-002\n",
      "models/gemini-1.5-flash-8b\n",
      "models/gemini-1.5-flash-8b-001\n",
      "models/gemini-1.5-flash-8b-latest\n",
      "models/gemini-2.5-pro-preview-03-25\n",
      "models/gemini-2.5-flash-preview-04-17\n",
      "models/gemini-2.5-flash-preview-05-20\n",
      "models/gemini-2.5-flash\n",
      "models/gemini-2.5-flash-preview-04-17-thinking\n",
      "models/gemini-2.5-flash-lite-preview-06-17\n",
      "models/gemini-2.5-pro-preview-05-06\n",
      "models/gemini-2.5-pro-preview-06-05\n",
      "models/gemini-2.5-pro\n",
      "models/gemini-2.0-flash-exp\n",
      "models/gemini-2.0-flash\n",
      "models/gemini-2.0-flash-001\n",
      "models/gemini-2.0-flash-exp-image-generation\n",
      "models/gemini-2.0-flash-lite-001\n",
      "models/gemini-2.0-flash-lite\n",
      "models/gemini-2.0-flash-preview-image-generation\n",
      "models/gemini-2.0-flash-lite-preview-02-05\n",
      "models/gemini-2.0-flash-lite-preview\n",
      "models/gemini-2.0-pro-exp\n",
      "models/gemini-2.0-pro-exp-02-05\n",
      "models/gemini-exp-1206\n",
      "models/gemini-2.0-flash-thinking-exp-01-21\n",
      "models/gemini-2.0-flash-thinking-exp\n",
      "models/gemini-2.0-flash-thinking-exp-1219\n",
      "models/gemini-2.5-flash-preview-tts\n",
      "models/gemini-2.5-pro-preview-tts\n",
      "models/learnlm-2.0-flash-experimental\n",
      "models/gemma-3-1b-it\n",
      "models/gemma-3-4b-it\n",
      "models/gemma-3-12b-it\n",
      "models/gemma-3-27b-it\n",
      "models/gemma-3n-e4b-it\n",
      "models/gemma-3n-e2b-it\n"
     ]
    }
   ],
   "source": [
    "import google.generativeai as genai\n",
    "import os\n",
    "from dotenv import load_dotenv\n",
    "\n",
    "load_dotenv()\n",
    "google_api_key = os.getenv(\"GOOGLE_API_KEY\")\n",
    "genai.configure(api_key=google_api_key)\n",
    "\n",
    "print(\"List of models that support generateContent:\")\n",
    "for m in genai.list_models():\n",
    "    if 'generateContent' in m.supported_generation_methods:\n",
    "        print(m.name)"
   ]
  },
  {
   "cell_type": "code",
   "execution_count": null,
   "metadata": {},
   "outputs": [],
   "source": [
    "from langchain_experimental.graph_transformers import LLMGraphTransformer\n",
    "from langchain_core.documents import Document\n",
    "from langchain_google_genai import ChatGoogleGenerativeAI\n",
    "\n",
    "# Initialize Gemini LLM\n",
    "# You can choose different models like \"gemini-1.5-pro\" or \"gemini-1.5-flash\"\n",
    "llm = ChatGoogleGenerativeAI(model=\"gemini-2.5-pro\", temperature=0, google_api_key=google_api_key)\n",
    "\n",
    "# Initialize the LLMGraphTransformer with the Gemini LLM\n",
    "graph_transformer = LLMGraphTransformer(llm=llm)"
   ]
  },
  {
   "attachments": {},
   "cell_type": "markdown",
   "metadata": {},
   "source": [
    "### 4. Extract graph data"
   ]
  },
  {
   "cell_type": "code",
   "execution_count": 9,
   "metadata": {},
   "outputs": [],
   "source": [
    "text = \"\"\"\n",
    "Albert Einstein[a] (14 March 1879 – 18 April 1955) was a German-born theoretical physicist who is best known for developing the theory of relativity. Einstein also made important contributions to quantum mechanics.[1][5] His mass–energy equivalence formula E = mc2, which arises from special relativity, has been called \"the world's most famous equation\".[6] He received the 1921 Nobel Prize in Physics for his services to theoretical physics, and especially for his discovery of the law of the photoelectric effect.[7]\n",
    "\n",
    "Born in the German Empire, Einstein moved to Switzerland in 1895, forsaking his German citizenship (as a subject of the Kingdom of Württemberg)[note 1] the following year. In 1897, at the age of seventeen, he enrolled in the mathematics and physics teaching diploma program at the Swiss federal polytechnic school in Zurich, graduating in 1900. He acquired Swiss citizenship a year later, which he kept for the rest of his life, and afterwards secured a permanent position at the Swiss Patent Office in Bern. In 1905, he submitted a successful PhD dissertation to the University of Zurich. In 1914, he moved to Berlin to join the Prussian Academy of Sciences and the Humboldt University of Berlin, becoming director of the Kaiser Wilhelm Institute for Physics in 1917; he also became a German citizen again, this time as a subject of the Kingdom of Prussia.[note 1] In 1933, while Einstein was visiting the United States, Adolf Hitler came to power in Germany. Horrified by the Nazi persecution of his fellow Jews,[8] he decided to remain in the US, and was granted American citizenship in 1940.[9] On the eve of World War II, he endorsed a letter to President Franklin D. Roosevelt alerting him to the potential German nuclear weapons program and recommending that the US begin similar research.\n",
    "\n",
    "In 1905, sometimes described as his annus mirabilis (miracle year), he published four groundbreaking papers.[10] In them, he outlined a theory of the photoelectric effect, explained Brownian motion, introduced his special theory of relativity, and demonstrated that if the special theory is correct, mass and energy are equivalent to each other. In 1915, he proposed a general theory of relativity that extended his system of mechanics to incorporate gravitation. A cosmological paper that he published the following year laid out the implications of general relativity for the modeling of the structure and evolution of the universe as a whole.[11][12] In 1917, Einstein wrote a paper which introduced the concepts of spontaneous emission and stimulated emission, the latter of which is the core mechanism behind the laser and maser, and which contained a trove of information that would be beneficial to developments in physics later on, such as quantum electrodynamics and quantum optics.[13]\n",
    "\n",
    "In the middle part of his career, Einstein made important contributions to statistical mechanics and quantum theory. Especially notable was his work on the quantum physics of radiation, in which light consists of particles, subsequently called photons. With physicist Satyendra Nath Bose, he laid the groundwork for Bose–Einstein statistics. For much of the last phase of his academic life, Einstein worked on two endeavors that ultimately proved unsuccessful. First, he advocated against quantum theory's introduction of fundamental randomness into science's picture of the world, objecting that God does not play dice.[14] Second, he attempted to devise a unified field theory by generalizing his geometric theory of gravitation to include electromagnetism. As a result, he became increasingly isolated from mainstream modern physics.\n",
    "\"\"\""
   ]
  },
  {
   "cell_type": "code",
   "execution_count": 11,
   "metadata": {},
   "outputs": [],
   "source": [
    "documents = [Document(page_content=text)]\n",
    "graph_documents = await graph_transformer.aconvert_to_graph_documents(documents)"
   ]
  },
  {
   "cell_type": "code",
   "execution_count": 12,
   "metadata": {},
   "outputs": [
    {
     "name": "stdout",
     "output_type": "stream",
     "text": [
      "Nodes:[Node(id='Albert Einstein', type='Person', properties={}), Node(id='Theoretical Physicist', type='Profession', properties={}), Node(id='Theory Of Relativity', type='Theory', properties={}), Node(id='Quantum Mechanics', type='Field', properties={}), Node(id='Mass-Energy Equivalence', type='Concept', properties={}), Node(id='Special Relativity', type='Theory', properties={}), Node(id='Nobel Prize In Physics', type='Prize', properties={}), Node(id='Theoretical Physics', type='Field', properties={}), Node(id='Law Of The Photoelectric Effect', type='Concept', properties={}), Node(id='German Empire', type='Country', properties={}), Node(id='Switzerland', type='Country', properties={}), Node(id='Swiss Federal Polytechnic School In Zurich', type='University', properties={}), Node(id='University Of Zurich', type='University', properties={}), Node(id='Swiss Patent Office', type='Organization', properties={}), Node(id='Prussian Academy Of Sciences', type='Organization', properties={}), Node(id='Humboldt University Of Berlin', type='University', properties={}), Node(id='Kaiser Wilhelm Institute For Physics', type='Organization', properties={}), Node(id='Germany', type='Country', properties={}), Node(id='United States', type='Country', properties={}), Node(id='Adolf Hitler', type='Person', properties={}), Node(id='Franklin D. Roosevelt', type='Person', properties={}), Node(id='German Nuclear Weapons Program', type='Concept', properties={}), Node(id='Photoelectric Effect', type='Concept', properties={}), Node(id='Brownian Motion', type='Concept', properties={}), Node(id='General Theory Of Relativity', type='Theory', properties={}), Node(id='Gravitation', type='Field', properties={}), Node(id='Satyendra Nath Bose', type='Person', properties={}), Node(id='Bose-Einstein Statistics', type='Concept', properties={}), Node(id='Quantum Theory', type='Theory', properties={}), Node(id='Unified Field Theory', type='Theory', properties={}), Node(id='Electromagnetism', type='Field', properties={}), Node(id='Modern Physics', type='Field', properties={})]\n",
      "Relationships:[Relationship(source=Node(id='Albert Einstein', type='Person', properties={}), target=Node(id='Theoretical Physicist', type='Profession', properties={}), type='PROFESSION', properties={}), Relationship(source=Node(id='Albert Einstein', type='Person', properties={}), target=Node(id='German Empire', type='Country', properties={}), type='BORN_IN', properties={}), Relationship(source=Node(id='Albert Einstein', type='Person', properties={}), target=Node(id='Theory Of Relativity', type='Theory', properties={}), type='DEVELOPED', properties={}), Relationship(source=Node(id='Albert Einstein', type='Person', properties={}), target=Node(id='Quantum Mechanics', type='Field', properties={}), type='CONTRIBUTED_TO', properties={}), Relationship(source=Node(id='Mass-Energy Equivalence', type='Concept', properties={}), target=Node(id='Special Relativity', type='Theory', properties={}), type='ARISES_FROM', properties={}), Relationship(source=Node(id='Albert Einstein', type='Person', properties={}), target=Node(id='Nobel Prize In Physics', type='Prize', properties={}), type='RECEIVED_AWARD', properties={}), Relationship(source=Node(id='Nobel Prize In Physics', type='Prize', properties={}), target=Node(id='Law Of The Photoelectric Effect', type='Concept', properties={}), type='AWARDED_FOR', properties={}), Relationship(source=Node(id='Albert Einstein', type='Person', properties={}), target=Node(id='Law Of The Photoelectric Effect', type='Concept', properties={}), type='DISCOVERED', properties={}), Relationship(source=Node(id='Albert Einstein', type='Person', properties={}), target=Node(id='Switzerland', type='Country', properties={}), type='CITIZEN_OF', properties={}), Relationship(source=Node(id='Albert Einstein', type='Person', properties={}), target=Node(id='Germany', type='Country', properties={}), type='CITIZEN_OF', properties={}), Relationship(source=Node(id='Albert Einstein', type='Person', properties={}), target=Node(id='United States', type='Country', properties={}), type='CITIZEN_OF', properties={}), Relationship(source=Node(id='Albert Einstein', type='Person', properties={}), target=Node(id='Swiss Federal Polytechnic School In Zurich', type='University', properties={}), type='EDUCATED_AT', properties={}), Relationship(source=Node(id='Albert Einstein', type='Person', properties={}), target=Node(id='University Of Zurich', type='University', properties={}), type='EDUCATED_AT', properties={}), Relationship(source=Node(id='Albert Einstein', type='Person', properties={}), target=Node(id='Swiss Patent Office', type='Organization', properties={}), type='WORKED_AT', properties={}), Relationship(source=Node(id='Albert Einstein', type='Person', properties={}), target=Node(id='Prussian Academy Of Sciences', type='Organization', properties={}), type='MEMBER_OF', properties={}), Relationship(source=Node(id='Albert Einstein', type='Person', properties={}), target=Node(id='Humboldt University Of Berlin', type='University', properties={}), type='AFFILIATED_WITH', properties={}), Relationship(source=Node(id='Albert Einstein', type='Person', properties={}), target=Node(id='Kaiser Wilhelm Institute For Physics', type='Organization', properties={}), type='DIRECTOR_OF', properties={}), Relationship(source=Node(id='Adolf Hitler', type='Person', properties={}), target=Node(id='Germany', type='Country', properties={}), type='LEADER_OF', properties={}), Relationship(source=Node(id='Albert Einstein', type='Person', properties={}), target=Node(id='Franklin D. Roosevelt', type='Person', properties={}), type='WROTE_TO', properties={}), Relationship(source=Node(id='Albert Einstein', type='Person', properties={}), target=Node(id='German Nuclear Weapons Program', type='Concept', properties={}), type='ALERTED_ABOUT', properties={}), Relationship(source=Node(id='Albert Einstein', type='Person', properties={}), target=Node(id='Photoelectric Effect', type='Concept', properties={}), type='DEVELOPED', properties={}), Relationship(source=Node(id='Albert Einstein', type='Person', properties={}), target=Node(id='Brownian Motion', type='Concept', properties={}), type='EXPLAINED', properties={}), Relationship(source=Node(id='Albert Einstein', type='Person', properties={}), target=Node(id='Special Relativity', type='Theory', properties={}), type='DEVELOPED', properties={}), Relationship(source=Node(id='Albert Einstein', type='Person', properties={}), target=Node(id='General Theory Of Relativity', type='Theory', properties={}), type='DEVELOPED', properties={}), Relationship(source=Node(id='General Theory Of Relativity', type='Theory', properties={}), target=Node(id='Gravitation', type='Field', properties={}), type='INCORPORATES', properties={}), Relationship(source=Node(id='Albert Einstein', type='Person', properties={}), target=Node(id='Satyendra Nath Bose', type='Person', properties={}), type='COLLABORATED_WITH', properties={}), Relationship(source=Node(id='Albert Einstein', type='Person', properties={}), target=Node(id='Bose-Einstein Statistics', type='Concept', properties={}), type='DEVELOPED', properties={}), Relationship(source=Node(id='Satyendra Nath Bose', type='Person', properties={}), target=Node(id='Bose-Einstein Statistics', type='Concept', properties={}), type='DEVELOPED', properties={}), Relationship(source=Node(id='Albert Einstein', type='Person', properties={}), target=Node(id='Quantum Theory', type='Theory', properties={}), type='OPPOSED', properties={}), Relationship(source=Node(id='Albert Einstein', type='Person', properties={}), target=Node(id='Unified Field Theory', type='Theory', properties={}), type='WORKED_ON', properties={}), Relationship(source=Node(id='Unified Field Theory', type='Theory', properties={}), target=Node(id='General Theory Of Relativity', type='Theory', properties={}), type='GENERALIZES', properties={}), Relationship(source=Node(id='Unified Field Theory', type='Theory', properties={}), target=Node(id='Electromagnetism', type='Field', properties={}), type='INCLUDES', properties={}), Relationship(source=Node(id='Albert Einstein', type='Person', properties={}), target=Node(id='Modern Physics', type='Field', properties={}), type='ISOLATED_FROM', properties={})]\n"
     ]
    }
   ],
   "source": [
    "print(f\"Nodes:{graph_documents[0].nodes}\")\n",
    "print(f\"Relationships:{graph_documents[0].relationships}\")"
   ]
  },
  {
   "attachments": {},
   "cell_type": "markdown",
   "metadata": {},
   "source": [
    "### 5. Visualize the graph with Pyvis"
   ]
  },
  {
   "cell_type": "code",
   "execution_count": null,
   "metadata": {},
   "outputs": [],
   "source": [
    "from pyvis.network import Network\n",
    "net = Network(notebook=False, directed=True,\n",
    "              height=\"1200px\", width=\"100%\", bgcolor=\"#222222\", font_color=\"white\")\n",
    "\n",
    "# Add nodes\n",
    "for node in graph_documents[0].nodes:\n",
    "    net.add_node(node.id, label=node.id, title=node.type, group=node.type) # Customize color for nodes\n",
    "\n",
    "# Add edges\n",
    "for relationship in graph_documents[0].relationships:\n",
    "    net.add_edge(relationship.source.id, relationship.target.id, label=relationship.type.lower())  # Customize color for edges\n",
    "\n",
    "# Add physics for better layout\n",
    "net.set_options(\"\"\"\n",
    "        {\n",
    "            \"physics\": {\n",
    "                \"forceAtlas2Based\": {\n",
    "                    \"gravitationalConstant\": -100,\n",
    "                    \"centralGravity\": 0.01,\n",
    "                    \"springLength\": 200,\n",
    "                    \"springConstant\": 0.08\n",
    "                },\n",
    "                \"minVelocity\": 0.75,\n",
    "                \"solver\": \"forceAtlas2Based\"\n",
    "            }\n",
    "        }\n",
    "        \"\"\")\n",
    "\n",
    "# Save and display the graph\n",
    "html_file = \"gemini_knowledge_graph.html\"\n",
    "print(f\"Graph saved to {os.path.abspath(html_file)}\")"
   ]
  }
 ],
 "metadata": {
  "kernelspec": {
   "display_name": ".venv",
   "language": "python",
   "name": "python3"
  },
  "language_info": {
   "codemirror_mode": {
    "name": "ipython",
    "version": 3
   },
   "file_extension": ".py",
   "mimetype": "text/x-python",
   "name": "python",
   "nbconvert_exporter": "python",
   "pygments_lexer": "ipython3",
   "version": "3.11.6"
  },
  "orig_nbformat": 4
 },
 "nbformat": 4,
 "nbformat_minor": 2
}
